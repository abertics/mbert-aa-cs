{
  "nbformat": 4,
  "nbformat_minor": 0,
  "metadata": {
    "colab": {
      "name": "6.884 R Analysis.ipynb",
      "provenance": [],
      "collapsed_sections": []
    },
    "kernelspec": {
      "name": "ir",
      "display_name": "R"
    }
  },
  "cells": [
    {
      "cell_type": "code",
      "metadata": {
        "colab": {
          "base_uri": "https://localhost:8080/"
        },
        "id": "-HT99RAjZkUw",
        "outputId": "3055013b-b739-4c60-d18b-7624b287508c"
      },
      "source": [
        "install.packages(\"glmmTMB\")"
      ],
      "execution_count": 1,
      "outputs": [
        {
          "output_type": "stream",
          "text": [
            "Installing package into ‘/usr/local/lib/R/site-library’\n",
            "(as ‘lib’ is unspecified)\n",
            "\n",
            "also installing the dependencies ‘minqa’, ‘nloptr’, ‘statmod’, ‘TMB’, ‘lme4’, ‘RcppEigen’\n",
            "\n",
            "\n"
          ],
          "name": "stderr"
        }
      ]
    },
    {
      "cell_type": "code",
      "metadata": {
        "colab": {
          "base_uri": "https://localhost:8080/"
        },
        "id": "O1wtQchNZpfc",
        "outputId": "8c43328f-9269-41de-d941-4ec3cd251e07"
      },
      "source": [
        "library(glmmTMB)\n",
        "library(dplyr)"
      ],
      "execution_count": 2,
      "outputs": [
        {
          "output_type": "stream",
          "text": [
            "\n",
            "Attaching package: ‘dplyr’\n",
            "\n",
            "\n",
            "The following objects are masked from ‘package:stats’:\n",
            "\n",
            "    filter, lag\n",
            "\n",
            "\n",
            "The following objects are masked from ‘package:base’:\n",
            "\n",
            "    intersect, setdiff, setequal, union\n",
            "\n",
            "\n"
          ],
          "name": "stderr"
        }
      ]
    },
    {
      "cell_type": "code",
      "metadata": {
        "id": "EfzHfgUjZ4HI"
      },
      "source": [
        "bert_df <- read.csv(\"cached_df_alt.csv\")\n",
        "bert_df <- tidyr::separate(bert_df, SubjAttractor, c(\"subj\", \"attr\"), sep=1:2)\n",
        "\n",
        "bert_df$match <- bert_df$subj == bert_df$attr\n",
        "bert_df$subj <- bert_df$subj\n",
        "\n",
        "bert_df$verb_lang <- substr(bert_df$Langs, 3, 3)\n",
        "bert_df$verb_type <- bert_df$SentIds\n",
        "\n",
        "bert_df$match_lang <- substr(bert_df$Langs, 1, 1) == substr(bert_df$Langs, 2, 2)\n",
        "bert_df$sv_match_lang <- substr(bert_df$Langs, 1, 1) == substr(bert_df$Langs, 3, 3)\n",
        "bert_df$av_match_lang <- substr(bert_df$Langs, 2, 2) == substr(bert_df$Langs, 3, 3)\n",
        "\n",
        "bert_df$monolingual <- (bert_df$verb_lang == substr(bert_df$Langs, 2, 2)) & bert_df$match_lang\n",
        "# means <- bert_df %>% group_by(verb_type, verb_lang, subj, match) %>% summarize(accuracy = mean(Accuracies))\n",
        "\n",
        "# subset(bert_df, monolingual==FALSE)\n",
        "\n",
        "# make into factors\n",
        "bert_df$Langs = as.factor(bert_df$Langs)\n",
        "\n",
        "bert_df$verb_lang = as.factor(bert_df$verb_lang)\n",
        "bert_df$match_lang = as.factor(bert_df$match_lang)\n",
        "bert_df$verb_type = as.factor(bert_df$verb_type)\n",
        "bert_df$subj = as.factor(bert_df$subj)\n",
        "bert_df$match = as.factor(bert_df$match)\n",
        "bert_df$sv_match_lang = as.factor(bert_df$sv_match_lang)\n",
        "bert_df$av_match_lang = as.factor(bert_df$av_match_lang)\n",
        "\n",
        "\n",
        "# # make stuff -1 or +1 so 0s don't dissapear things\n",
        "# bert_df$match <- 2*(as.numeric(bert_df$match) - 1.5)\n",
        "# bert_df$subj <- 2*(as.numeric(bert_df$subj) - 1.5)\n",
        "\n",
        "# subset(bert_df, match != 1)\n",
        "\n",
        "logit2prob <- function(logit){\n",
        "  odds <- exp(logit)\n",
        "  prob <- odds / (1 + odds)\n",
        "  return(prob)\n",
        "}"
      ],
      "execution_count": 15,
      "outputs": []
    },
    {
      "cell_type": "code",
      "metadata": {
        "colab": {
          "base_uri": "https://localhost:8080/",
          "height": 424
        },
        "id": "6mzn5XcslKIT",
        "outputId": "64aa2f7f-9710-4b2b-c830-75d5dd80b361"
      },
      "source": [
        "# ## confirm monolingual agreement attraction\n",
        "# monolingual <- subset(bert_df, monolingual==\"TRUE\")\n",
        "\n",
        "# # contrasts(monolingual$match) <- contr.sum(2)\n",
        "\n",
        "# # Accuracies is binary\n",
        "# bert_lm <- glmmTMB(data=monolingual, \n",
        "#                  Accuracies ~ match + (1 | SentIds) + (1 | verb_lang),\n",
        "#                  family=binomial())\n",
        "\n",
        "# summary(monolingual$match)\n",
        "# summary(bert_lm)\n",
        "\n",
        "# ## confirm monolingual agreement attraction\n",
        "monolingual <- subset(bert_df, monolingual==\"TRUE\")\n",
        "russian <- subset(monolingual, verb_lang==\"R\")\n",
        "\n",
        "match_s <- subset(russian, match==\"TRUE\" & subj==\"S\")$Accuracies * 100\n",
        "nomatch_s <- subset(russian, match==\"FALSE\" & subj==\"S\")$Accuracies * 100\n",
        "\n",
        "t.test(match_s, nomatch_s)\n",
        "\n",
        "match_s <- subset(russian, match==\"TRUE\" & subj==\"P\")$Accuracies\n",
        "nomatch_s <- subset(russian, match==\"FALSE\" & subj==\"P\")$Accuracies\n",
        "\"SUBJ P\"\n",
        "t.test(match_s, nomatch_s)\n",
        "\n",
        "\n",
        "# contrasts(monolingual$match) <- contr.sum(2)\n",
        "\n",
        "# # Accuracies is binary\n",
        "# bert_lm <- glmmTMB(data=subset(monolingual, verb_lang==\"R\"), \n",
        "#                  Accuracies ~ match + (1 | SentIds),\n",
        "#                  family=binomial())\n",
        "\n",
        "# \"RUSSIAN\"\n",
        "# summary(monolingual$match)\n",
        "# summary(bert_lm)"
      ],
      "execution_count": 28,
      "outputs": [
        {
          "output_type": "display_data",
          "data": {
            "text/plain": [
              "\n",
              "\tWelch Two Sample t-test\n",
              "\n",
              "data:  match_s and nomatch_s\n",
              "t = 5.1077, df = 5722.4, p-value = 3.366e-07\n",
              "alternative hypothesis: true difference in means is not equal to 0\n",
              "95 percent confidence interval:\n",
              " 3.573066 8.024156\n",
              "sample estimates:\n",
              "mean of x mean of y \n",
              " 78.12500  72.32639 \n"
            ]
          },
          "metadata": {
            "tags": []
          }
        },
        {
          "output_type": "display_data",
          "data": {
            "text/plain": [
              "[1] \"SUBJ P\""
            ],
            "text/latex": "'SUBJ P'",
            "text/markdown": "'SUBJ P'",
            "text/html": [
              "'SUBJ P'"
            ]
          },
          "metadata": {
            "tags": []
          }
        },
        {
          "output_type": "display_data",
          "data": {
            "text/plain": [
              "\n",
              "\tWelch Two Sample t-test\n",
              "\n",
              "data:  match_s and nomatch_s\n",
              "t = 2.3831, df = 5752.4, p-value = 0.0172\n",
              "alternative hypothesis: true difference in means is not equal to 0\n",
              "95 percent confidence interval:\n",
              " 0.004989056 0.051260944\n",
              "sample estimates:\n",
              "mean of x mean of y \n",
              "0.7361111 0.7079861 \n"
            ]
          },
          "metadata": {
            "tags": []
          }
        }
      ]
    },
    {
      "cell_type": "code",
      "metadata": {
        "colab": {
          "base_uri": "https://localhost:8080/",
          "height": 870
        },
        "id": "u0v5eBHhtPmp",
        "outputId": "a484470a-f281-4e37-d1e5-2bbc36cca715"
      },
      "source": [
        "# TESTING FOR THE MAIN EFFECT OF MATCH (with subject at not plural or sing)\n",
        "#### Definitely an effect. thank god\n",
        "# TESTING FOR THE EFFECT OF MATCH:SUBJ INTERACTION (with subject at not plural or sing)\n",
        "### also def an effect\n",
        "\n",
        "test <- bert_df\n",
        "test$subj <- 2*(as.numeric(test$subj) - 1.5)\n",
        "\n",
        "# Accuracies is binary\n",
        "inner <- glmmTMB(data=test, \n",
        "                 Accuracies ~ match + subj + (1 | SentIds),\n",
        "                 family=binomial())\n",
        "summary(inner)\n",
        "outer <- glmmTMB(data=test, \n",
        "                 Accuracies ~ match*subj + (1 | SentIds),\n",
        "                 family=binomial())\n",
        "summary(outer)\n",
        "              \n",
        "anova(inner,outer)"
      ],
      "execution_count": 59,
      "outputs": [
        {
          "output_type": "display_data",
          "data": {
            "text/plain": [
              " Family: binomial  ( logit )\n",
              "Formula:          Accuracies ~ match:subj + subj + (1 | SentIds)\n",
              "Data: test\n",
              "\n",
              "      AIC       BIC    logLik  deviance  df.resid \n",
              " 401566.6  401609.2 -200779.3  401558.6    311036 \n",
              "\n",
              "Random effects:\n",
              "\n",
              "Conditional model:\n",
              " Groups  Name        Variance Std.Dev.\n",
              " SentIds (Intercept) 0.1157   0.3401  \n",
              "Number of obs: 311040, groups:  SentIds, 2880\n",
              "\n",
              "Conditional model:\n",
              "                Estimate Std. Error z value Pr(>|z|)    \n",
              "(Intercept)     0.602997   0.007401   81.48  < 2e-16 ***\n",
              "subj            0.090628   0.005360   16.91  < 2e-16 ***\n",
              "subj:matchTRUE -0.048156   0.007577   -6.36 2.07e-10 ***\n",
              "---\n",
              "Signif. codes:  0 ‘***’ 0.001 ‘**’ 0.01 ‘*’ 0.05 ‘.’ 0.1 ‘ ’ 1"
            ]
          },
          "metadata": {
            "tags": []
          }
        },
        {
          "output_type": "display_data",
          "data": {
            "text/plain": [
              " Family: binomial  ( logit )\n",
              "Formula:          Accuracies ~ match * subj + (1 | SentIds)\n",
              "Data: test\n",
              "\n",
              "      AIC       BIC    logLik  deviance  df.resid \n",
              " 393737.3  393790.5 -196863.6  393727.3    311035 \n",
              "\n",
              "Random effects:\n",
              "\n",
              "Conditional model:\n",
              " Groups  Name        Variance Std.Dev.\n",
              " SentIds (Intercept) 0.1229   0.3506  \n",
              "Number of obs: 311040, groups:  SentIds, 2880\n",
              "\n",
              "Conditional model:\n",
              "                Estimate Std. Error z value Pr(>|z|)    \n",
              "(Intercept)     0.280976   0.008353   33.64  < 2e-16 ***\n",
              "matchTRUE       0.676788   0.007719   87.67  < 2e-16 ***\n",
              "subj            0.085154   0.005195   16.39  < 2e-16 ***\n",
              "matchTRUE:subj -0.037148   0.007709   -4.82 1.44e-06 ***\n",
              "---\n",
              "Signif. codes:  0 ‘***’ 0.001 ‘**’ 0.01 ‘*’ 0.05 ‘.’ 0.1 ‘ ’ 1"
            ]
          },
          "metadata": {
            "tags": []
          }
        },
        {
          "output_type": "display_data",
          "data": {
            "text/plain": [
              "      Df AIC      BIC      logLik    deviance Chisq    Chi Df Pr(>Chisq)\n",
              "inner 4  401566.6 401609.2 -200779.3 401558.6       NA NA     NA        \n",
              "outer 5  393737.3 393790.5 -196863.6 393727.3 7831.294  1      0        "
            ],
            "text/latex": "A anova: 2 × 8\n\\begin{tabular}{r|llllllll}\n  & Df & AIC & BIC & logLik & deviance & Chisq & Chi Df & Pr(>Chisq)\\\\\n  & <dbl> & <dbl> & <dbl> & <dbl> & <dbl> & <dbl> & <dbl> & <dbl>\\\\\n\\hline\n\tinner & 4 & 401566.6 & 401609.2 & -200779.3 & 401558.6 &       NA & NA & NA\\\\\n\touter & 5 & 393737.3 & 393790.5 & -196863.6 & 393727.3 & 7831.294 &  1 &  0\\\\\n\\end{tabular}\n",
            "text/markdown": "\nA anova: 2 × 8\n\n| <!--/--> | Df &lt;dbl&gt; | AIC &lt;dbl&gt; | BIC &lt;dbl&gt; | logLik &lt;dbl&gt; | deviance &lt;dbl&gt; | Chisq &lt;dbl&gt; | Chi Df &lt;dbl&gt; | Pr(&gt;Chisq) &lt;dbl&gt; |\n|---|---|---|---|---|---|---|---|---|\n| inner | 4 | 401566.6 | 401609.2 | -200779.3 | 401558.6 |       NA | NA | NA |\n| outer | 5 | 393737.3 | 393790.5 | -196863.6 | 393727.3 | 7831.294 |  1 |  0 |\n\n",
            "text/html": [
              "<table>\n",
              "<caption>A anova: 2 × 8</caption>\n",
              "<thead>\n",
              "\t<tr><th></th><th scope=col>Df</th><th scope=col>AIC</th><th scope=col>BIC</th><th scope=col>logLik</th><th scope=col>deviance</th><th scope=col>Chisq</th><th scope=col>Chi Df</th><th scope=col>Pr(&gt;Chisq)</th></tr>\n",
              "\t<tr><th></th><th scope=col>&lt;dbl&gt;</th><th scope=col>&lt;dbl&gt;</th><th scope=col>&lt;dbl&gt;</th><th scope=col>&lt;dbl&gt;</th><th scope=col>&lt;dbl&gt;</th><th scope=col>&lt;dbl&gt;</th><th scope=col>&lt;dbl&gt;</th><th scope=col>&lt;dbl&gt;</th></tr>\n",
              "</thead>\n",
              "<tbody>\n",
              "\t<tr><th scope=row>inner</th><td>4</td><td>401566.6</td><td>401609.2</td><td>-200779.3</td><td>401558.6</td><td>      NA</td><td>NA</td><td>NA</td></tr>\n",
              "\t<tr><th scope=row>outer</th><td>5</td><td>393737.3</td><td>393790.5</td><td>-196863.6</td><td>393727.3</td><td>7831.294</td><td> 1</td><td> 0</td></tr>\n",
              "</tbody>\n",
              "</table>\n"
            ]
          },
          "metadata": {
            "tags": []
          }
        }
      ]
    },
    {
      "cell_type": "code",
      "metadata": {
        "colab": {
          "base_uri": "https://localhost:8080/",
          "height": 1000
        },
        "id": "sUOaRRxO098R",
        "outputId": "f8115062-2512-4ec1-9eb4-43ec00c475f0"
      },
      "source": [
        "# TESTING FOR THE MAIN EFFECT OF av_match_lang\n",
        "\n",
        "#english to make faster\n",
        "test <- subset(bert_df)#, verb_lang==\"R\")\n",
        "\n",
        "test$sv_match_lang <- 2*(as.numeric(test$sv_match_lang) - 1.5)\n",
        "test$av_match_lang <- -2*(as.numeric(test$av_match_lang) - 1.5)\n",
        "test$match <- 2*(as.numeric(test$match) - 1.5)\n",
        "\n",
        "# Accuracies is binary\n",
        "\"SV ALONE\"\n",
        "inner <- glmmTMB(data=test, \n",
        "                 Accuracies ~ match*av_match_lang + (1 | SentIds) + (1 | verb_lang),\n",
        "                 family=binomial())\n",
        "summary(inner)\n",
        "outer <- glmmTMB(data=test, \n",
        "                 Accuracies ~ match*av_match_lang*sv_match_lang + (1 | SentIds) + (1 | verb_lang),\n",
        "                 family=binomial())\n",
        "summary(outer)\n",
        "              \n",
        "anova(inner,outer)\n",
        "\n",
        "# \"SVINTERACTION\"\n",
        "# # Accuracies is binary\n",
        "# inner <- glmmTMB(data=test, \n",
        "#                  Accuracies ~ match + av_match_lang + (1 | SentIds) + (1 | verb_lang),\n",
        "#                  family=binomial())\n",
        "# summary(inner)\n",
        "# outer <- glmmTMB(data=test, \n",
        "#                  Accuracies ~ match*av_match_lang + (1 | SentIds) + (1 | verb_lang),\n",
        "#                  family=binomial())\n",
        "# summary(outer)\n",
        "              \n",
        "# anova(inner,outer)"
      ],
      "execution_count": 16,
      "outputs": [
        {
          "output_type": "display_data",
          "data": {
            "text/plain": [
              "[1] \"SV ALONE\""
            ],
            "text/latex": "'SV ALONE'",
            "text/markdown": "'SV ALONE'",
            "text/html": [
              "'SV ALONE'"
            ]
          },
          "metadata": {
            "tags": []
          }
        },
        {
          "output_type": "display_data",
          "data": {
            "text/plain": [
              " Family: binomial  ( logit )\n",
              "Formula:          \n",
              "Accuracies ~ match * av_match_lang + (1 | SentIds) + (1 | verb_lang)\n",
              "Data: test\n",
              "\n",
              "      AIC       BIC    logLik  deviance  df.resid \n",
              " 390795.5  390859.4 -195391.7  390783.5    311034 \n",
              "\n",
              "Random effects:\n",
              "\n",
              "Conditional model:\n",
              " Groups    Name        Variance Std.Dev.\n",
              " SentIds   (Intercept) 0.12564  0.3545  \n",
              " verb_lang (Intercept) 0.03727  0.1930  \n",
              "Number of obs: 311040, groups:  SentIds, 2880; verb_lang, 3\n",
              "\n",
              "Conditional model:\n",
              "                     Estimate Std. Error z value Pr(>|z|)    \n",
              "(Intercept)          0.654720   0.111731    5.86 4.64e-09 ***\n",
              "match                0.376834   0.004180   90.16  < 2e-16 ***\n",
              "av_match_lang       -0.081470   0.004172  -19.53  < 2e-16 ***\n",
              "match:av_match_lang -0.098072   0.004172  -23.50  < 2e-16 ***\n",
              "---\n",
              "Signif. codes:  0 ‘***’ 0.001 ‘**’ 0.01 ‘*’ 0.05 ‘.’ 0.1 ‘ ’ 1"
            ]
          },
          "metadata": {
            "tags": []
          }
        },
        {
          "output_type": "display_data",
          "data": {
            "text/plain": [
              " Family: binomial  ( logit )\n",
              "Formula:          \n",
              "Accuracies ~ match * av_match_lang * sv_match_lang + (1 | SentIds) +  \n",
              "    (1 | verb_lang)\n",
              "Data: test\n",
              "\n",
              "      AIC       BIC    logLik  deviance  df.resid \n",
              " 388276.1  388382.6 -194128.0  388256.1    311030 \n",
              "\n",
              "Random effects:\n",
              "\n",
              "Conditional model:\n",
              " Groups    Name        Variance Std.Dev.\n",
              " SentIds   (Intercept) 0.12803  0.3578  \n",
              " verb_lang (Intercept) 0.03787  0.1946  \n",
              "Number of obs: 311040, groups:  SentIds, 2880; verb_lang, 3\n",
              "\n",
              "Conditional model:\n",
              "                                   Estimate Std. Error z value Pr(>|z|)    \n",
              "(Intercept)                        0.714978   0.112650    6.35  2.2e-10 ***\n",
              "match                              0.383439   0.004509   85.04  < 2e-16 ***\n",
              "av_match_lang                     -0.051499   0.004502  -11.44  < 2e-16 ***\n",
              "sv_match_lang                      0.165254   0.004503   36.70  < 2e-16 ***\n",
              "match:av_match_lang               -0.079365   0.004502  -17.63  < 2e-16 ***\n",
              "match:sv_match_lang                0.009716   0.004502    2.16   0.0309 *  \n",
              "av_match_lang:sv_match_lang        0.078041   0.004502   17.33  < 2e-16 ***\n",
              "match:av_match_lang:sv_match_lang  0.046385   0.004502   10.30  < 2e-16 ***\n",
              "---\n",
              "Signif. codes:  0 ‘***’ 0.001 ‘**’ 0.01 ‘*’ 0.05 ‘.’ 0.1 ‘ ’ 1"
            ]
          },
          "metadata": {
            "tags": []
          }
        },
        {
          "output_type": "display_data",
          "data": {
            "text/plain": [
              "      Df AIC      BIC      logLik    deviance Chisq   Chi Df Pr(>Chisq)\n",
              "inner  6 390795.5 390859.4 -195391.7 390783.5      NA NA     NA        \n",
              "outer 10 388276.1 388382.6 -194128.0 388256.1 2527.39  4      0        "
            ],
            "text/latex": "A anova: 2 × 8\n\\begin{tabular}{r|llllllll}\n  & Df & AIC & BIC & logLik & deviance & Chisq & Chi Df & Pr(>Chisq)\\\\\n  & <dbl> & <dbl> & <dbl> & <dbl> & <dbl> & <dbl> & <dbl> & <dbl>\\\\\n\\hline\n\tinner &  6 & 390795.5 & 390859.4 & -195391.7 & 390783.5 &      NA & NA & NA\\\\\n\touter & 10 & 388276.1 & 388382.6 & -194128.0 & 388256.1 & 2527.39 &  4 &  0\\\\\n\\end{tabular}\n",
            "text/markdown": "\nA anova: 2 × 8\n\n| <!--/--> | Df &lt;dbl&gt; | AIC &lt;dbl&gt; | BIC &lt;dbl&gt; | logLik &lt;dbl&gt; | deviance &lt;dbl&gt; | Chisq &lt;dbl&gt; | Chi Df &lt;dbl&gt; | Pr(&gt;Chisq) &lt;dbl&gt; |\n|---|---|---|---|---|---|---|---|---|\n| inner |  6 | 390795.5 | 390859.4 | -195391.7 | 390783.5 |      NA | NA | NA |\n| outer | 10 | 388276.1 | 388382.6 | -194128.0 | 388256.1 | 2527.39 |  4 |  0 |\n\n",
            "text/html": [
              "<table>\n",
              "<caption>A anova: 2 × 8</caption>\n",
              "<thead>\n",
              "\t<tr><th></th><th scope=col>Df</th><th scope=col>AIC</th><th scope=col>BIC</th><th scope=col>logLik</th><th scope=col>deviance</th><th scope=col>Chisq</th><th scope=col>Chi Df</th><th scope=col>Pr(&gt;Chisq)</th></tr>\n",
              "\t<tr><th></th><th scope=col>&lt;dbl&gt;</th><th scope=col>&lt;dbl&gt;</th><th scope=col>&lt;dbl&gt;</th><th scope=col>&lt;dbl&gt;</th><th scope=col>&lt;dbl&gt;</th><th scope=col>&lt;dbl&gt;</th><th scope=col>&lt;dbl&gt;</th><th scope=col>&lt;dbl&gt;</th></tr>\n",
              "</thead>\n",
              "<tbody>\n",
              "\t<tr><th scope=row>inner</th><td> 6</td><td>390795.5</td><td>390859.4</td><td>-195391.7</td><td>390783.5</td><td>     NA</td><td>NA</td><td>NA</td></tr>\n",
              "\t<tr><th scope=row>outer</th><td>10</td><td>388276.1</td><td>388382.6</td><td>-194128.0</td><td>388256.1</td><td>2527.39</td><td> 4</td><td> 0</td></tr>\n",
              "</tbody>\n",
              "</table>\n"
            ]
          },
          "metadata": {
            "tags": []
          }
        }
      ]
    },
    {
      "cell_type": "code",
      "metadata": {
        "colab": {
          "base_uri": "https://localhost:8080/",
          "height": 50
        },
        "id": "748lqNNW5zsq",
        "outputId": "c6e97ec0-d552-43ed-8ac1-7a0308dcf865"
      },
      "source": [
        "logit2prob(0.43891+0.80064)\n",
        "contr.sum(2)[2,]"
      ],
      "execution_count": 52,
      "outputs": [
        {
          "output_type": "display_data",
          "data": {
            "text/plain": [
              "[1] 0.7754857"
            ],
            "text/latex": "0.775485675542777",
            "text/markdown": "0.775485675542777",
            "text/html": [
              "0.775485675542777"
            ]
          },
          "metadata": {
            "tags": []
          }
        },
        {
          "output_type": "display_data",
          "data": {
            "text/plain": [
              " 2 \n",
              "-1 "
            ],
            "text/latex": "\\textbf{2:} -1",
            "text/markdown": "**2:** -1",
            "text/html": [
              "<strong>2:</strong> -1"
            ]
          },
          "metadata": {
            "tags": []
          }
        }
      ]
    },
    {
      "cell_type": "code",
      "metadata": {
        "colab": {
          "base_uri": "https://localhost:8080/",
          "height": 458
        },
        "id": "58k-JhmgbVL6",
        "outputId": "93b7da91-e16b-4fb4-c91d-0880052f590b"
      },
      "source": [
        "monolingual <- subset(bert_df, monolingual==\"TRUE\")\n",
        "\n",
        "contrasts(monolingual$subj) <- contr.sum(2)\n",
        "contrasts(monolingual$match) <- contr.sum(2)\n",
        "\n",
        "# Accuracies is binary\n",
        "# Should be (subj * match | verb_type), but time.\n",
        "bert_lm <- glmmTMB(data=monolingual, \n",
        "                 Accuracies ~ subj * match + (1 | verb_type) + (1 | verb_lang),\n",
        "                 family=binomial())\n",
        "\n",
        "summary(monolingual$subj)\n",
        "summary(monolingual$match)\n",
        "summary(bert_lm)\n",
        "\n",
        "\n",
        "# b92_lm <- glmmTMB(data=subset(b92_df, type==\"lstm\" & clause==\"rc\"), sample/100 ~ match + (1 | item) + (1 | model), family=beta_family())\n",
        "# summary(b92_lm)\n",
        "\n",
        "# lstm_rc_eff <- -summary(b92_lm)$coeff$cond[2,1]\n",
        "# lstm_rc_se <- summary(b92_lm)$coeff$cond[2,2]\n",
        "\n",
        "# b92_lm <- glmmTMB(data=subset(b92_df, type==\"lstm\" & clause==\"prop\"), sample/100 ~ match + (1 | item) + (1 | model), family=beta_family())\n",
        "# summary(b92_lm)\n",
        "\n",
        "# lstm_pp_eff <- -summary(b92_lm)$coeff$cond[2,1]\n",
        "# lstm_pp_se <- summary(b92_lm)$coeff$cond[2,2]\n",
        "\n",
        "# b92_effs <- data.frame(clause=c(\"RC\",\"PP\"), \n",
        "#                        eff=c(lstm_rc_eff, lstm_pp_eff),\n",
        "#                        se=c(lstm_rc_se, lstm_pp_se))\n",
        "# b92_effs"
      ],
      "execution_count": 143,
      "outputs": [
        {
          "output_type": "display_data",
          "data": {
            "text/plain": [
              "    P     S \n",
              "17280 17280 "
            ],
            "text/latex": "\\begin{description*}\n\\item[P] 17280\n\\item[S] 17280\n\\end{description*}\n",
            "text/markdown": "P\n:   17280S\n:   17280\n\n",
            "text/html": [
              "<style>\n",
              ".dl-inline {width: auto; margin:0; padding: 0}\n",
              ".dl-inline>dt, .dl-inline>dd {float: none; width: auto; display: inline-block}\n",
              ".dl-inline>dt::after {content: \":\\0020\"; padding-right: .5ex}\n",
              ".dl-inline>dt:not(:first-of-type) {padding-left: .5ex}\n",
              "</style><dl class=dl-inline><dt>P</dt><dd>17280</dd><dt>S</dt><dd>17280</dd></dl>\n"
            ]
          },
          "metadata": {
            "tags": []
          }
        },
        {
          "output_type": "display_data",
          "data": {
            "text/plain": [
              "FALSE  TRUE \n",
              "17280 17280 "
            ],
            "text/latex": "\\begin{description*}\n\\item[FALSE] 17280\n\\item[TRUE] 17280\n\\end{description*}\n",
            "text/markdown": "FALSE\n:   17280TRUE\n:   17280\n\n",
            "text/html": [
              "<style>\n",
              ".dl-inline {width: auto; margin:0; padding: 0}\n",
              ".dl-inline>dt, .dl-inline>dd {float: none; width: auto; display: inline-block}\n",
              ".dl-inline>dt::after {content: \":\\0020\"; padding-right: .5ex}\n",
              ".dl-inline>dt:not(:first-of-type) {padding-left: .5ex}\n",
              "</style><dl class=dl-inline><dt>FALSE</dt><dd>17280</dd><dt>TRUE</dt><dd>17280</dd></dl>\n"
            ]
          },
          "metadata": {
            "tags": []
          }
        },
        {
          "output_type": "display_data",
          "data": {
            "text/plain": [
              " Family: binomial  ( logit )\n",
              "Formula:          Accuracies ~ subj * match + (1 | verb_type) + (1 | verb_lang)\n",
              "Data: monolingual\n",
              "\n",
              "     AIC      BIC   logLik deviance df.resid \n",
              " 38927.8  38978.5 -19457.9  38915.8    34554 \n",
              "\n",
              "Random effects:\n",
              "\n",
              "Conditional model:\n",
              " Groups    Name        Variance Std.Dev.\n",
              " verb_type (Intercept) 0.44511  0.6672  \n",
              " verb_lang (Intercept) 0.08872  0.2979  \n",
              "Number of obs: 34560, groups:  verb_type, 7; verb_lang, 3\n",
              "\n",
              "Conditional model:\n",
              "             Estimate Std. Error z value Pr(>|z|)    \n",
              "(Intercept)   0.81457    0.30552    2.67  0.00767 ** \n",
              "subj1         0.29351    0.01253   23.43  < 2e-16 ***\n",
              "match1       -0.44541    0.01255  -35.49  < 2e-16 ***\n",
              "subj1:match1  0.01620    0.01251    1.29  0.19539    \n",
              "---\n",
              "Signif. codes:  0 ‘***’ 0.001 ‘**’ 0.01 ‘*’ 0.05 ‘.’ 0.1 ‘ ’ 1"
            ]
          },
          "metadata": {
            "tags": []
          }
        }
      ]
    },
    {
      "cell_type": "code",
      "metadata": {
        "id": "wEgoCAmC4ItD"
      },
      "source": [
        "# monolingual <- subset(bert_df, monolingual==\"TRUE\")\n",
        "# monolingual$subj <- relevel(monolingual$subj, \"S\")\n",
        "\n",
        "# contrasts(monolingual$subj) <- contr.sum(2)\n",
        "# contrasts(monolingual$match) <- contr.sum(2)\n",
        "\n",
        "# summary(monolingual$subj)\n",
        "# summary(monolingual$match)\n",
        "\n",
        "# monolingual$subj <- as.numeric(monolingual$subj) - 1.5\n",
        "\n",
        "# monolingual$subj\n"
      ],
      "execution_count": 144,
      "outputs": []
    },
    {
      "cell_type": "code",
      "metadata": {
        "colab": {
          "base_uri": "https://localhost:8080/",
          "height": 1000
        },
        "id": "aMVR8-HtfKqM",
        "outputId": "0d544663-38ef-4bc3-cfe4-7fcf01fd23f8"
      },
      "source": [
        "monolingual <- subset(bert_df, monolingual==\"TRUE\")\n",
        "monolingual$subj <- relevel(monolingual$subj, \"P\")\n",
        "monolingual$match <- relevel(monolingual$match, \"TRUE\")\n",
        "\n",
        "contrasts(monolingual$subj) <- contr.sum(2)\n",
        "contrasts(monolingual$match) <- contr.sum(2)\n",
        "\n",
        "summary(monolingual$subj)\n",
        "summary(monolingual$match)\n",
        "\n",
        "# mean(monolingual$subj)\n",
        "\n",
        "\"ENGLISH\"\n",
        "# Accuracies is binary\n",
        "# Should be (subj * match | verb_type), but time.\n",
        "bert_lm <- glmmTMB(data=subset(monolingual, verb_lang==\"E\"), \n",
        "                 Accuracies ~ subj * match + (1 | SentIds),\n",
        "                 family=binomial())\n",
        "summary(bert_lm)\n",
        "\n",
        "\"FRENCH\"\n",
        "# Accuracies is binary\n",
        "# Should be (subj * match | verb_type), but time.\n",
        "bert_lm <- glmmTMB(data=subset(monolingual, verb_lang==\"F\"), \n",
        "                 Accuracies ~ subj * match + (1 | SentIds),\n",
        "                 family=binomial())\n",
        "summary(bert_lm)\n",
        "\n",
        "\"RUSSIAN\"\n",
        "# Accuracies is binary\n",
        "# Should be (subj * match | verb_type), but time.\n",
        "bert_lm <- glmmTMB(data=subset(monolingual, verb_lang==\"R\"), \n",
        "                 Accuracies ~ subj * match + (1 | SentIds),\n",
        "                 family=binomial())\n",
        "summary(bert_lm)"
      ],
      "execution_count": 9,
      "outputs": [
        {
          "output_type": "display_data",
          "data": {
            "text/plain": [
              "    P     S \n",
              "17280 17280 "
            ],
            "text/latex": "\\begin{description*}\n\\item[P] 17280\n\\item[S] 17280\n\\end{description*}\n",
            "text/markdown": "P\n:   17280S\n:   17280\n\n",
            "text/html": [
              "<style>\n",
              ".dl-inline {width: auto; margin:0; padding: 0}\n",
              ".dl-inline>dt, .dl-inline>dd {float: none; width: auto; display: inline-block}\n",
              ".dl-inline>dt::after {content: \":\\0020\"; padding-right: .5ex}\n",
              ".dl-inline>dt:not(:first-of-type) {padding-left: .5ex}\n",
              "</style><dl class=dl-inline><dt>P</dt><dd>17280</dd><dt>S</dt><dd>17280</dd></dl>\n"
            ]
          },
          "metadata": {
            "tags": []
          }
        },
        {
          "output_type": "display_data",
          "data": {
            "text/plain": [
              " TRUE FALSE \n",
              "17280 17280 "
            ],
            "text/latex": "\\begin{description*}\n\\item[TRUE] 17280\n\\item[FALSE] 17280\n\\end{description*}\n",
            "text/markdown": "TRUE\n:   17280FALSE\n:   17280\n\n",
            "text/html": [
              "<style>\n",
              ".dl-inline {width: auto; margin:0; padding: 0}\n",
              ".dl-inline>dt, .dl-inline>dd {float: none; width: auto; display: inline-block}\n",
              ".dl-inline>dt::after {content: \":\\0020\"; padding-right: .5ex}\n",
              ".dl-inline>dt:not(:first-of-type) {padding-left: .5ex}\n",
              "</style><dl class=dl-inline><dt>TRUE</dt><dd>17280</dd><dt>FALSE</dt><dd>17280</dd></dl>\n"
            ]
          },
          "metadata": {
            "tags": []
          }
        },
        {
          "output_type": "display_data",
          "data": {
            "text/plain": [
              "[1] \"ENGLISH\""
            ],
            "text/latex": "'ENGLISH'",
            "text/markdown": "'ENGLISH'",
            "text/html": [
              "'ENGLISH'"
            ]
          },
          "metadata": {
            "tags": []
          }
        },
        {
          "output_type": "display_data",
          "data": {
            "text/plain": [
              " Family: binomial  ( logit )\n",
              "Formula:          Accuracies ~ subj * match + (1 | SentIds)\n",
              "Data: subset(monolingual, verb_lang == \"E\")\n",
              "\n",
              "     AIC      BIC   logLik deviance df.resid \n",
              "  9975.9  10012.6  -4982.9   9965.9    11515 \n",
              "\n",
              "Random effects:\n",
              "\n",
              "Conditional model:\n",
              " Groups  Name        Variance  Std.Dev. \n",
              " SentIds (Intercept) 6.259e-08 0.0002502\n",
              "Number of obs: 11520, groups:  SentIds, 2880\n",
              "\n",
              "Conditional model:\n",
              "             Estimate Std. Error z value Pr(>|z|)    \n",
              "(Intercept)    1.1743     0.0416   28.23  < 2e-16 ***\n",
              "subj1          1.7145     0.0416   41.21  < 2e-16 ***\n",
              "match1         0.9756     0.0416   23.45  < 2e-16 ***\n",
              "subj1:match1   0.2347     0.0416    5.64  1.7e-08 ***\n",
              "---\n",
              "Signif. codes:  0 ‘***’ 0.001 ‘**’ 0.01 ‘*’ 0.05 ‘.’ 0.1 ‘ ’ 1"
            ]
          },
          "metadata": {
            "tags": []
          }
        },
        {
          "output_type": "display_data",
          "data": {
            "text/plain": [
              "[1] \"FRENCH\""
            ],
            "text/latex": "'FRENCH'",
            "text/markdown": "'FRENCH'",
            "text/html": [
              "'FRENCH'"
            ]
          },
          "metadata": {
            "tags": []
          }
        },
        {
          "output_type": "display_data",
          "data": {
            "text/plain": [
              " Family: binomial  ( logit )\n",
              "Formula:          Accuracies ~ subj * match + (1 | SentIds)\n",
              "Data: subset(monolingual, verb_lang == \"F\")\n",
              "\n",
              "     AIC      BIC   logLik deviance df.resid \n",
              " 13351.3  13388.0  -6670.6  13341.3    11515 \n",
              "\n",
              "Random effects:\n",
              "\n",
              "Conditional model:\n",
              " Groups  Name        Variance  Std.Dev. \n",
              " SentIds (Intercept) 7.536e-09 8.681e-05\n",
              "Number of obs: 11520, groups:  SentIds, 2880\n",
              "\n",
              "Conditional model:\n",
              "             Estimate Std. Error z value Pr(>|z|)    \n",
              "(Intercept)   0.82793    0.02175   38.07   <2e-16 ***\n",
              "subj1        -0.38853    0.02175  -17.87   <2e-16 ***\n",
              "match1        0.58933    0.02175   27.10   <2e-16 ***\n",
              "subj1:match1  0.02412    0.02175    1.11    0.267    \n",
              "---\n",
              "Signif. codes:  0 ‘***’ 0.001 ‘**’ 0.01 ‘*’ 0.05 ‘.’ 0.1 ‘ ’ 1"
            ]
          },
          "metadata": {
            "tags": []
          }
        },
        {
          "output_type": "display_data",
          "data": {
            "text/plain": [
              "[1] \"RUSSIAN\""
            ],
            "text/latex": "'RUSSIAN'",
            "text/markdown": "'RUSSIAN'",
            "text/html": [
              "'RUSSIAN'"
            ]
          },
          "metadata": {
            "tags": []
          }
        },
        {
          "output_type": "display_data",
          "data": {
            "text/plain": [
              " Family: binomial  ( logit )\n",
              "Formula:          Accuracies ~ subj * match + (1 | SentIds)\n",
              "Data: subset(monolingual, verb_lang == \"R\")\n",
              "\n",
              "     AIC      BIC   logLik deviance df.resid \n",
              " 13210.2  13247.0  -6600.1  13200.2    11515 \n",
              "\n",
              "Random effects:\n",
              "\n",
              "Conditional model:\n",
              " Groups  Name        Variance Std.Dev.\n",
              " SentIds (Intercept) 0.2097   0.458   \n",
              "Number of obs: 11520, groups:  SentIds, 2880\n",
              "\n",
              "Conditional model:\n",
              "             Estimate Std. Error z value Pr(>|z|)    \n",
              "(Intercept)   1.08652    0.02582   42.08  < 2e-16 ***\n",
              "subj1        -0.08366    0.02169   -3.86 0.000115 ***\n",
              "match1        0.11756    0.02170    5.42 6.06e-08 ***\n",
              "subj1:match1 -0.04452    0.02168   -2.05 0.040038 *  \n",
              "---\n",
              "Signif. codes:  0 ‘***’ 0.001 ‘**’ 0.01 ‘*’ 0.05 ‘.’ 0.1 ‘ ’ 1"
            ]
          },
          "metadata": {
            "tags": []
          }
        }
      ]
    },
    {
      "cell_type": "code",
      "metadata": {
        "colab": {
          "base_uri": "https://localhost:8080/",
          "height": 33
        },
        "id": "dVqsZgq99eOF",
        "outputId": "63d0fe95-11cb-4451-9e1d-dae59af2f0fc"
      },
      "source": [
        "logit2prob(4.4-2.5-4.2+.7)"
      ],
      "execution_count": 141,
      "outputs": [
        {
          "output_type": "display_data",
          "data": {
            "text/plain": [
              "[1] 0.1679816"
            ],
            "text/latex": "0.167981614866076",
            "text/markdown": "0.167981614866076",
            "text/html": [
              "0.167981614866076"
            ]
          },
          "metadata": {
            "tags": []
          }
        }
      ]
    },
    {
      "cell_type": "code",
      "metadata": {
        "colab": {
          "base_uri": "https://localhost:8080/",
          "height": 616
        },
        "id": "d5GfhqFiDnt0",
        "outputId": "70eb258c-9a96-4997-f11c-cf9915d7a68b"
      },
      "source": [
        "monolingual <- bert_df\n",
        "\n",
        "monolingual$subj <- relevel(monolingual$subj, \"P\")\n",
        "monolingual$match <- relevel(monolingual$match, \"TRUE\")\n",
        "\n",
        "contrasts(monolingual$subj) <- contr.sum(2)\n",
        "contrasts(monolingual$match) <- contr.sum(2)\n",
        "contrasts(monolingual$verb_lang) <- contr.sum(3)\n",
        "\n",
        "summary(monolingual$subj)\n",
        "summary(monolingual$match)\n",
        "summary(monolingual$verb_lang)\n",
        "\n",
        "\"ALL\"\n",
        "# Accuracies is binary\n",
        "# Should be (subj * match | verb_type), but time.\n",
        "bert_lm <- glmmTMB(data=monolingual, \n",
        "                 Accuracies ~ subj * match * verb_lang + (1 | verb_type),\n",
        "                 family=binomial())\n",
        "summary(bert_lm)\n"
      ],
      "execution_count": 146,
      "outputs": [
        {
          "output_type": "display_data",
          "data": {
            "text/plain": [
              "     P      S \n",
              "155520 155520 "
            ],
            "text/latex": "\\begin{description*}\n\\item[P] 155520\n\\item[S] 155520\n\\end{description*}\n",
            "text/markdown": "P\n:   155520S\n:   155520\n\n",
            "text/html": [
              "<style>\n",
              ".dl-inline {width: auto; margin:0; padding: 0}\n",
              ".dl-inline>dt, .dl-inline>dd {float: none; width: auto; display: inline-block}\n",
              ".dl-inline>dt::after {content: \":\\0020\"; padding-right: .5ex}\n",
              ".dl-inline>dt:not(:first-of-type) {padding-left: .5ex}\n",
              "</style><dl class=dl-inline><dt>P</dt><dd>155520</dd><dt>S</dt><dd>155520</dd></dl>\n"
            ]
          },
          "metadata": {
            "tags": []
          }
        },
        {
          "output_type": "display_data",
          "data": {
            "text/plain": [
              "  TRUE  FALSE \n",
              "155520 155520 "
            ],
            "text/latex": "\\begin{description*}\n\\item[TRUE] 155520\n\\item[FALSE] 155520\n\\end{description*}\n",
            "text/markdown": "TRUE\n:   155520FALSE\n:   155520\n\n",
            "text/html": [
              "<style>\n",
              ".dl-inline {width: auto; margin:0; padding: 0}\n",
              ".dl-inline>dt, .dl-inline>dd {float: none; width: auto; display: inline-block}\n",
              ".dl-inline>dt::after {content: \":\\0020\"; padding-right: .5ex}\n",
              ".dl-inline>dt:not(:first-of-type) {padding-left: .5ex}\n",
              "</style><dl class=dl-inline><dt>TRUE</dt><dd>155520</dd><dt>FALSE</dt><dd>155520</dd></dl>\n"
            ]
          },
          "metadata": {
            "tags": []
          }
        },
        {
          "output_type": "display_data",
          "data": {
            "text/plain": [
              "     E      F      R \n",
              "103680 103680 103680 "
            ],
            "text/latex": "\\begin{description*}\n\\item[E] 103680\n\\item[F] 103680\n\\item[R] 103680\n\\end{description*}\n",
            "text/markdown": "E\n:   103680F\n:   103680R\n:   103680\n\n",
            "text/html": [
              "<style>\n",
              ".dl-inline {width: auto; margin:0; padding: 0}\n",
              ".dl-inline>dt, .dl-inline>dd {float: none; width: auto; display: inline-block}\n",
              ".dl-inline>dt::after {content: \":\\0020\"; padding-right: .5ex}\n",
              ".dl-inline>dt:not(:first-of-type) {padding-left: .5ex}\n",
              "</style><dl class=dl-inline><dt>E</dt><dd>103680</dd><dt>F</dt><dd>103680</dd><dt>R</dt><dd>103680</dd></dl>\n"
            ]
          },
          "metadata": {
            "tags": []
          }
        },
        {
          "output_type": "display_data",
          "data": {
            "text/plain": [
              "[1] \"ALL\""
            ],
            "text/latex": "'ALL'",
            "text/markdown": "'ALL'",
            "text/html": [
              "'ALL'"
            ]
          },
          "metadata": {
            "tags": []
          }
        },
        {
          "output_type": "display_data",
          "data": {
            "text/plain": [
              " Family: binomial  ( logit )\n",
              "Formula:          Accuracies ~ subj * match * verb_lang + (1 | verb_type)\n",
              "Data: monolingual\n",
              "\n",
              "      AIC       BIC    logLik  deviance  df.resid \n",
              " 356103.9  356242.3 -178038.9  356077.9    311027 \n",
              "\n",
              "Random effects:\n",
              "\n",
              "Conditional model:\n",
              " Groups    Name        Variance Std.Dev.\n",
              " verb_type (Intercept) 0.1322   0.3636  \n",
              "Number of obs: 311040, groups:  verb_type, 7\n",
              "\n",
              "Conditional model:\n",
              "                         Estimate Std. Error z value Pr(>|z|)    \n",
              "(Intercept)              0.601542   0.137517    4.37 1.22e-05 ***\n",
              "subj1                   -0.062394   0.004199  -14.86  < 2e-16 ***\n",
              "match1                   0.385279   0.004201   91.70  < 2e-16 ***\n",
              "verb_lang1              -0.009687   0.006116   -1.58    0.113    \n",
              "verb_lang2              -0.252455   0.006359  -39.70  < 2e-16 ***\n",
              "subj1:match1             0.030944   0.004196    7.37 1.65e-13 ***\n",
              "subj1:verb_lang1         0.931472   0.006043  154.14  < 2e-16 ***\n",
              "subj1:verb_lang2        -0.824919   0.005947 -138.71  < 2e-16 ***\n",
              "match1:verb_lang1        0.053093   0.006019    8.82  < 2e-16 ***\n",
              "match1:verb_lang2       -0.058064   0.005925   -9.80  < 2e-16 ***\n",
              "subj1:match1:verb_lang1  0.044680   0.006019    7.42 1.14e-13 ***\n",
              "subj1:match1:verb_lang2  0.005352   0.005924    0.90    0.366    \n",
              "---\n",
              "Signif. codes:  0 ‘***’ 0.001 ‘**’ 0.01 ‘*’ 0.05 ‘.’ 0.1 ‘ ’ 1"
            ]
          },
          "metadata": {
            "tags": []
          }
        }
      ]
    },
    {
      "cell_type": "code",
      "metadata": {
        "colab": {
          "base_uri": "https://localhost:8080/",
          "height": 1000
        },
        "id": "NC8yLCgyIBas",
        "outputId": "a571bef9-007f-4517-8248-1e86023f8b49"
      },
      "source": [
        "bert_df$sv_match_lang <- relevel(bert_df$sv_match_lang, \"TRUE\")\n",
        "bert_df$match <- relevel(bert_df$match, \"TRUE\")\n",
        "\n",
        "contrasts(bert_df$sv_match_lang) <- contr.sum(2)\n",
        "contrasts(bert_df$match) <- contr.sum(2)\n",
        "\n",
        "summary(bert_df$sv_match_lang)\n",
        "summary(bert_df$match)\n",
        "\n",
        "\n",
        "\"ENGLISH\"\n",
        "# Accuracies is binary\n",
        "bert_lm <- glmmTMB(data=subset(bert_df, verb_lang==\"E\"), \n",
        "                 Accuracies ~ match * sv_match_lang + (1 | verb_type),\n",
        "                 family=binomial())\n",
        "summary(bert_lm)\n",
        "\n",
        "\"FRENCH\"\n",
        "# Accuracies is binary\n",
        "bert_lm <- glmmTMB(data=subset(bert_df, verb_lang==\"F\"), \n",
        "                 Accuracies ~ match * sv_match_lang + (1 | verb_type),\n",
        "                 family=binomial())\n",
        "summary(bert_lm)\n",
        "\n",
        "\"RUSSIAN\"\n",
        "# Accuracies is binary\n",
        "bert_lm <- glmmTMB(data=subset(bert_df, verb_lang==\"R\"), \n",
        "                 Accuracies ~ match * sv_match_lang + (1 | verb_type),\n",
        "                 family=binomial())\n",
        "summary(bert_lm)\n"
      ],
      "execution_count": 154,
      "outputs": [
        {
          "output_type": "display_data",
          "data": {
            "text/plain": [
              "  TRUE  FALSE \n",
              "103680 207360 "
            ],
            "text/latex": "\\begin{description*}\n\\item[TRUE] 103680\n\\item[FALSE] 207360\n\\end{description*}\n",
            "text/markdown": "TRUE\n:   103680FALSE\n:   207360\n\n",
            "text/html": [
              "<style>\n",
              ".dl-inline {width: auto; margin:0; padding: 0}\n",
              ".dl-inline>dt, .dl-inline>dd {float: none; width: auto; display: inline-block}\n",
              ".dl-inline>dt::after {content: \":\\0020\"; padding-right: .5ex}\n",
              ".dl-inline>dt:not(:first-of-type) {padding-left: .5ex}\n",
              "</style><dl class=dl-inline><dt>TRUE</dt><dd>103680</dd><dt>FALSE</dt><dd>207360</dd></dl>\n"
            ]
          },
          "metadata": {
            "tags": []
          }
        },
        {
          "output_type": "display_data",
          "data": {
            "text/plain": [
              "  TRUE  FALSE \n",
              "155520 155520 "
            ],
            "text/latex": "\\begin{description*}\n\\item[TRUE] 155520\n\\item[FALSE] 155520\n\\end{description*}\n",
            "text/markdown": "TRUE\n:   155520FALSE\n:   155520\n\n",
            "text/html": [
              "<style>\n",
              ".dl-inline {width: auto; margin:0; padding: 0}\n",
              ".dl-inline>dt, .dl-inline>dd {float: none; width: auto; display: inline-block}\n",
              ".dl-inline>dt::after {content: \":\\0020\"; padding-right: .5ex}\n",
              ".dl-inline>dt:not(:first-of-type) {padding-left: .5ex}\n",
              "</style><dl class=dl-inline><dt>TRUE</dt><dd>155520</dd><dt>FALSE</dt><dd>155520</dd></dl>\n"
            ]
          },
          "metadata": {
            "tags": []
          }
        },
        {
          "output_type": "display_data",
          "data": {
            "text/plain": [
              "[1] \"ENGLISH\""
            ],
            "text/latex": "'ENGLISH'",
            "text/markdown": "'ENGLISH'",
            "text/html": [
              "'ENGLISH'"
            ]
          },
          "metadata": {
            "tags": []
          }
        },
        {
          "output_type": "display_data",
          "data": {
            "text/plain": [
              " Family: binomial  ( logit )\n",
              "Formula:          Accuracies ~ match * sv_match_lang + (1 | verb_type)\n",
              "Data: subset(bert_df, verb_lang == \"E\")\n",
              "\n",
              "     AIC      BIC   logLik deviance df.resid \n",
              "129186.7 129234.5 -64588.4 129176.7   103675 \n",
              "\n",
              "Random effects:\n",
              "\n",
              "Conditional model:\n",
              " Groups    Name        Variance Std.Dev.\n",
              " verb_type (Intercept) 0.2577   0.5076  \n",
              "Number of obs: 103680, groups:  verb_type, 7\n",
              "\n",
              "Conditional model:\n",
              "                      Estimate Std. Error z value Pr(>|z|)    \n",
              "(Intercept)           0.565877   0.192013    2.95  0.00321 ** \n",
              "match1                0.386813   0.007226   53.53  < 2e-16 ***\n",
              "sv_match_lang1        0.132986   0.007210   18.44  < 2e-16 ***\n",
              "match1:sv_match_lang1 0.045671   0.007209    6.34 2.36e-10 ***\n",
              "---\n",
              "Signif. codes:  0 ‘***’ 0.001 ‘**’ 0.01 ‘*’ 0.05 ‘.’ 0.1 ‘ ’ 1"
            ]
          },
          "metadata": {
            "tags": []
          }
        },
        {
          "output_type": "display_data",
          "data": {
            "text/plain": [
              "[1] \"FRENCH\""
            ],
            "text/latex": "'FRENCH'",
            "text/markdown": "'FRENCH'",
            "text/html": [
              "'FRENCH'"
            ]
          },
          "metadata": {
            "tags": []
          }
        },
        {
          "output_type": "display_data",
          "data": {
            "text/plain": [
              " Family: binomial  ( logit )\n",
              "Formula:          Accuracies ~ match * sv_match_lang + (1 | verb_type)\n",
              "Data: subset(bert_df, verb_lang == \"F\")\n",
              "\n",
              "     AIC      BIC   logLik deviance df.resid \n",
              "134757.5 134805.3 -67373.8 134747.5   103675 \n",
              "\n",
              "Random effects:\n",
              "\n",
              "Conditional model:\n",
              " Groups    Name        Variance Std.Dev.\n",
              " verb_type (Intercept) 0.01785  0.1336  \n",
              "Number of obs: 103680, groups:  verb_type, 5\n",
              "\n",
              "Conditional model:\n",
              "                      Estimate Std. Error z value Pr(>|z|)    \n",
              "(Intercept)           0.528143   0.060219    8.77   <2e-16 ***\n",
              "match1                0.312220   0.007174   43.52   <2e-16 ***\n",
              "sv_match_lang1        0.324652   0.007174   45.25   <2e-16 ***\n",
              "match1:sv_match_lang1 0.072948   0.007173   10.17   <2e-16 ***\n",
              "---\n",
              "Signif. codes:  0 ‘***’ 0.001 ‘**’ 0.01 ‘*’ 0.05 ‘.’ 0.1 ‘ ’ 1"
            ]
          },
          "metadata": {
            "tags": []
          }
        },
        {
          "output_type": "display_data",
          "data": {
            "text/plain": [
              "[1] \"RUSSIAN\""
            ],
            "text/latex": "'RUSSIAN'",
            "text/markdown": "'RUSSIAN'",
            "text/html": [
              "'RUSSIAN'"
            ]
          },
          "metadata": {
            "tags": []
          }
        },
        {
          "output_type": "display_data",
          "data": {
            "text/plain": [
              " Family: binomial  ( logit )\n",
              "Formula:          Accuracies ~ match * sv_match_lang + (1 | verb_type)\n",
              "Data: subset(bert_df, verb_lang == \"R\")\n",
              "\n",
              "     AIC      BIC   logLik deviance df.resid \n",
              "117813.9 117861.7 -58902.0 117803.9   103675 \n",
              "\n",
              "Random effects:\n",
              "\n",
              "Conditional model:\n",
              " Groups    Name        Variance Std.Dev.\n",
              " verb_type (Intercept) 0.2975   0.5454  \n",
              "Number of obs: 103680, groups:  verb_type, 7\n",
              "\n",
              "Conditional model:\n",
              "                       Estimate Std. Error z value Pr(>|z|)    \n",
              "(Intercept)            0.900703   0.206312    4.37 1.27e-05 ***\n",
              "match1                 0.381101   0.007692   49.55  < 2e-16 ***\n",
              "sv_match_lang1         0.108571   0.007675   14.15  < 2e-16 ***\n",
              "match1:sv_match_lang1 -0.050762   0.007674   -6.62 3.71e-11 ***\n",
              "---\n",
              "Signif. codes:  0 ‘***’ 0.001 ‘**’ 0.01 ‘*’ 0.05 ‘.’ 0.1 ‘ ’ 1"
            ]
          },
          "metadata": {
            "tags": []
          }
        }
      ]
    },
    {
      "cell_type": "code",
      "metadata": {
        "colab": {
          "base_uri": "https://localhost:8080/",
          "height": 1000
        },
        "id": "jBFFj5pYL_vE",
        "outputId": "1524c79d-0cee-447a-a1e6-638eccde96a9"
      },
      "source": [
        "bert_df$sv_match_lang <- relevel(bert_df$sv_match_lang, \"TRUE\")\n",
        "bert_df$match <- relevel(bert_df$match, \"FALSE\")\n",
        "\n",
        "contrasts(bert_df$sv_match_lang) <- contr.sum(2)\n",
        "contrasts(bert_df$match) <- contr.sum(2)\n",
        "\n",
        "summary(bert_df$sv_match_lang)\n",
        "summary(bert_df$match)\n",
        "\n",
        "\n",
        "\"ENGLISH\"\n",
        "# Accuracies is binary\n",
        "bert_lm <- glmmTMB(data=subset(bert_df, verb_lang==\"E\"), \n",
        "                 Accuracies ~ match * sv_match_lang + (1 | verb_type),\n",
        "                 family=binomial())\n",
        "summary(bert_lm)\n",
        "\n",
        "\"FRENCH\"\n",
        "# Accuracies is binary\n",
        "bert_lm <- glmmTMB(data=subset(bert_df, verb_lang==\"F\"), \n",
        "                 Accuracies ~ match * sv_match_lang + (1 | verb_type),\n",
        "                 family=binomial())\n",
        "summary(bert_lm)\n",
        "\n",
        "\"RUSSIAN\"\n",
        "# Accuracies is binary\n",
        "bert_lm <- glmmTMB(data=subset(bert_df, verb_lang==\"R\"), \n",
        "                 Accuracies ~ match * sv_match_lang + (1 | verb_type),\n",
        "                 family=binomial())\n",
        "summary(bert_lm)\n"
      ],
      "execution_count": 155,
      "outputs": [
        {
          "output_type": "display_data",
          "data": {
            "text/plain": [
              "  TRUE  FALSE \n",
              "103680 207360 "
            ],
            "text/latex": "\\begin{description*}\n\\item[TRUE] 103680\n\\item[FALSE] 207360\n\\end{description*}\n",
            "text/markdown": "TRUE\n:   103680FALSE\n:   207360\n\n",
            "text/html": [
              "<style>\n",
              ".dl-inline {width: auto; margin:0; padding: 0}\n",
              ".dl-inline>dt, .dl-inline>dd {float: none; width: auto; display: inline-block}\n",
              ".dl-inline>dt::after {content: \":\\0020\"; padding-right: .5ex}\n",
              ".dl-inline>dt:not(:first-of-type) {padding-left: .5ex}\n",
              "</style><dl class=dl-inline><dt>TRUE</dt><dd>103680</dd><dt>FALSE</dt><dd>207360</dd></dl>\n"
            ]
          },
          "metadata": {
            "tags": []
          }
        },
        {
          "output_type": "display_data",
          "data": {
            "text/plain": [
              " FALSE   TRUE \n",
              "155520 155520 "
            ],
            "text/latex": "\\begin{description*}\n\\item[FALSE] 155520\n\\item[TRUE] 155520\n\\end{description*}\n",
            "text/markdown": "FALSE\n:   155520TRUE\n:   155520\n\n",
            "text/html": [
              "<style>\n",
              ".dl-inline {width: auto; margin:0; padding: 0}\n",
              ".dl-inline>dt, .dl-inline>dd {float: none; width: auto; display: inline-block}\n",
              ".dl-inline>dt::after {content: \":\\0020\"; padding-right: .5ex}\n",
              ".dl-inline>dt:not(:first-of-type) {padding-left: .5ex}\n",
              "</style><dl class=dl-inline><dt>FALSE</dt><dd>155520</dd><dt>TRUE</dt><dd>155520</dd></dl>\n"
            ]
          },
          "metadata": {
            "tags": []
          }
        },
        {
          "output_type": "display_data",
          "data": {
            "text/plain": [
              "[1] \"ENGLISH\""
            ],
            "text/latex": "'ENGLISH'",
            "text/markdown": "'ENGLISH'",
            "text/html": [
              "'ENGLISH'"
            ]
          },
          "metadata": {
            "tags": []
          }
        },
        {
          "output_type": "display_data",
          "data": {
            "text/plain": [
              " Family: binomial  ( logit )\n",
              "Formula:          Accuracies ~ match * sv_match_lang + (1 | verb_type)\n",
              "Data: subset(bert_df, verb_lang == \"E\")\n",
              "\n",
              "     AIC      BIC   logLik deviance df.resid \n",
              "129186.7 129234.5 -64588.4 129176.7   103675 \n",
              "\n",
              "Random effects:\n",
              "\n",
              "Conditional model:\n",
              " Groups    Name        Variance Std.Dev.\n",
              " verb_type (Intercept) 0.2577   0.5076  \n",
              "Number of obs: 103680, groups:  verb_type, 7\n",
              "\n",
              "Conditional model:\n",
              "                       Estimate Std. Error z value Pr(>|z|)    \n",
              "(Intercept)            0.565877   0.192013    2.95  0.00321 ** \n",
              "match1                -0.386813   0.007226  -53.53  < 2e-16 ***\n",
              "sv_match_lang1         0.132986   0.007210   18.44  < 2e-16 ***\n",
              "match1:sv_match_lang1 -0.045671   0.007209   -6.34 2.36e-10 ***\n",
              "---\n",
              "Signif. codes:  0 ‘***’ 0.001 ‘**’ 0.01 ‘*’ 0.05 ‘.’ 0.1 ‘ ’ 1"
            ]
          },
          "metadata": {
            "tags": []
          }
        },
        {
          "output_type": "display_data",
          "data": {
            "text/plain": [
              "[1] \"FRENCH\""
            ],
            "text/latex": "'FRENCH'",
            "text/markdown": "'FRENCH'",
            "text/html": [
              "'FRENCH'"
            ]
          },
          "metadata": {
            "tags": []
          }
        },
        {
          "output_type": "display_data",
          "data": {
            "text/plain": [
              " Family: binomial  ( logit )\n",
              "Formula:          Accuracies ~ match * sv_match_lang + (1 | verb_type)\n",
              "Data: subset(bert_df, verb_lang == \"F\")\n",
              "\n",
              "     AIC      BIC   logLik deviance df.resid \n",
              "134757.5 134805.3 -67373.8 134747.5   103675 \n",
              "\n",
              "Random effects:\n",
              "\n",
              "Conditional model:\n",
              " Groups    Name        Variance Std.Dev.\n",
              " verb_type (Intercept) 0.01785  0.1336  \n",
              "Number of obs: 103680, groups:  verb_type, 5\n",
              "\n",
              "Conditional model:\n",
              "                       Estimate Std. Error z value Pr(>|z|)    \n",
              "(Intercept)            0.528143   0.060219    8.77   <2e-16 ***\n",
              "match1                -0.312220   0.007174  -43.52   <2e-16 ***\n",
              "sv_match_lang1         0.324652   0.007174   45.25   <2e-16 ***\n",
              "match1:sv_match_lang1 -0.072948   0.007173  -10.17   <2e-16 ***\n",
              "---\n",
              "Signif. codes:  0 ‘***’ 0.001 ‘**’ 0.01 ‘*’ 0.05 ‘.’ 0.1 ‘ ’ 1"
            ]
          },
          "metadata": {
            "tags": []
          }
        },
        {
          "output_type": "display_data",
          "data": {
            "text/plain": [
              "[1] \"RUSSIAN\""
            ],
            "text/latex": "'RUSSIAN'",
            "text/markdown": "'RUSSIAN'",
            "text/html": [
              "'RUSSIAN'"
            ]
          },
          "metadata": {
            "tags": []
          }
        },
        {
          "output_type": "display_data",
          "data": {
            "text/plain": [
              " Family: binomial  ( logit )\n",
              "Formula:          Accuracies ~ match * sv_match_lang + (1 | verb_type)\n",
              "Data: subset(bert_df, verb_lang == \"R\")\n",
              "\n",
              "     AIC      BIC   logLik deviance df.resid \n",
              "117813.9 117861.7 -58902.0 117803.9   103675 \n",
              "\n",
              "Random effects:\n",
              "\n",
              "Conditional model:\n",
              " Groups    Name        Variance Std.Dev.\n",
              " verb_type (Intercept) 0.2975   0.5454  \n",
              "Number of obs: 103680, groups:  verb_type, 7\n",
              "\n",
              "Conditional model:\n",
              "                       Estimate Std. Error z value Pr(>|z|)    \n",
              "(Intercept)            0.900703   0.206312    4.37 1.27e-05 ***\n",
              "match1                -0.381101   0.007692  -49.55  < 2e-16 ***\n",
              "sv_match_lang1         0.108571   0.007675   14.15  < 2e-16 ***\n",
              "match1:sv_match_lang1  0.050762   0.007674    6.62 3.71e-11 ***\n",
              "---\n",
              "Signif. codes:  0 ‘***’ 0.001 ‘**’ 0.01 ‘*’ 0.05 ‘.’ 0.1 ‘ ’ 1"
            ]
          },
          "metadata": {
            "tags": []
          }
        }
      ]
    },
    {
      "cell_type": "code",
      "metadata": {
        "colab": {
          "base_uri": "https://localhost:8080/",
          "height": 1000
        },
        "id": "yJGT5XgvNNC-",
        "outputId": "4fbde1d0-f026-4784-f9f2-0a273d49c5a6"
      },
      "source": [
        "## IS THERE AGREEMENT ATTRACTION WHEN ITS LxL??\n",
        "lxl_df <- subset(bert_df, sv_match_lang==\"TRUE\")\n",
        "lxl_df$match <- relevel(lxl_df$match, \"TRUE\")\n",
        "\n",
        "contrasts(lxl_df$match) <- contr.sum(2)\n",
        "summary(lxl_df$match)\n",
        "\n",
        "\n",
        "\"ENGLISH\"\n",
        "# Accuracies is binary\n",
        "bert_lm <- glmmTMB(data=subset(lxl_df, verb_lang==\"E\"), \n",
        "                 Accuracies ~ match + (1 | verb_type),\n",
        "                 family=binomial())\n",
        "summary(bert_lm)\n",
        "\n",
        "\"FRENCH\"\n",
        "# Accuracies is binary\n",
        "bert_lm <- glmmTMB(data=subset(lxl_df, verb_lang==\"F\"), \n",
        "                 Accuracies ~ match + (1 | verb_type),\n",
        "                 family=binomial())\n",
        "summary(bert_lm)\n",
        "\n",
        "\"RUSSIAN\"\n",
        "# Accuracies is binary\n",
        "bert_lm <- glmmTMB(data=subset(lxl_df, verb_lang==\"R\"), \n",
        "                 Accuracies ~ match + (1 | verb_type),\n",
        "                 family=binomial())\n",
        "summary(bert_lm)\n"
      ],
      "execution_count": 159,
      "outputs": [
        {
          "output_type": "display_data",
          "data": {
            "text/plain": [
              " TRUE FALSE \n",
              "51840 51840 "
            ],
            "text/latex": "\\begin{description*}\n\\item[TRUE] 51840\n\\item[FALSE] 51840\n\\end{description*}\n",
            "text/markdown": "TRUE\n:   51840FALSE\n:   51840\n\n",
            "text/html": [
              "<style>\n",
              ".dl-inline {width: auto; margin:0; padding: 0}\n",
              ".dl-inline>dt, .dl-inline>dd {float: none; width: auto; display: inline-block}\n",
              ".dl-inline>dt::after {content: \":\\0020\"; padding-right: .5ex}\n",
              ".dl-inline>dt:not(:first-of-type) {padding-left: .5ex}\n",
              "</style><dl class=dl-inline><dt>TRUE</dt><dd>51840</dd><dt>FALSE</dt><dd>51840</dd></dl>\n"
            ]
          },
          "metadata": {
            "tags": []
          }
        },
        {
          "output_type": "display_data",
          "data": {
            "text/plain": [
              "[1] \"ENGLISH\""
            ],
            "text/latex": "'ENGLISH'",
            "text/markdown": "'ENGLISH'",
            "text/html": [
              "'ENGLISH'"
            ]
          },
          "metadata": {
            "tags": []
          }
        },
        {
          "output_type": "display_data",
          "data": {
            "text/plain": [
              " Family: binomial  ( logit )\n",
              "Formula:          Accuracies ~ match + (1 | verb_type)\n",
              "Data: subset(lxl_df, verb_lang == \"E\")\n",
              "\n",
              "     AIC      BIC   logLik deviance df.resid \n",
              " 40202.7  40228.1 -20098.4  40196.7    34557 \n",
              "\n",
              "Random effects:\n",
              "\n",
              "Conditional model:\n",
              " Groups    Name        Variance Std.Dev.\n",
              " verb_type (Intercept) 0.51     0.7141  \n",
              "Number of obs: 34560, groups:  verb_type, 7\n",
              "\n",
              "Conditional model:\n",
              "            Estimate Std. Error z value Pr(>|z|)    \n",
              "(Intercept)  0.72388    0.27023    2.68  0.00739 ** \n",
              "match1       0.44954    0.01223   36.75  < 2e-16 ***\n",
              "---\n",
              "Signif. codes:  0 ‘***’ 0.001 ‘**’ 0.01 ‘*’ 0.05 ‘.’ 0.1 ‘ ’ 1"
            ]
          },
          "metadata": {
            "tags": []
          }
        },
        {
          "output_type": "display_data",
          "data": {
            "text/plain": [
              "[1] \"FRENCH\""
            ],
            "text/latex": "'FRENCH'",
            "text/markdown": "'FRENCH'",
            "text/html": [
              "'FRENCH'"
            ]
          },
          "metadata": {
            "tags": []
          }
        },
        {
          "output_type": "display_data",
          "data": {
            "text/plain": [
              " Family: binomial  ( logit )\n",
              "Formula:          Accuracies ~ match + (1 | verb_type)\n",
              "Data: subset(lxl_df, verb_lang == \"F\")\n",
              "\n",
              "     AIC      BIC   logLik deviance df.resid \n",
              " 39707.9  39733.3 -19851.0  39701.9    34557 \n",
              "\n",
              "Random effects:\n",
              "\n",
              "Conditional model:\n",
              " Groups    Name        Variance Std.Dev.\n",
              " verb_type (Intercept) 0.2389   0.4887  \n",
              "Number of obs: 34560, groups:  verb_type, 5\n",
              "\n",
              "Conditional model:\n",
              "            Estimate Std. Error z value Pr(>|z|)    \n",
              "(Intercept)  0.84362    0.21895    3.85 0.000117 ***\n",
              "match1       0.39993    0.01233   32.43  < 2e-16 ***\n",
              "---\n",
              "Signif. codes:  0 ‘***’ 0.001 ‘**’ 0.01 ‘*’ 0.05 ‘.’ 0.1 ‘ ’ 1"
            ]
          },
          "metadata": {
            "tags": []
          }
        },
        {
          "output_type": "display_data",
          "data": {
            "text/plain": [
              "[1] \"RUSSIAN\""
            ],
            "text/latex": "'RUSSIAN'",
            "text/markdown": "'RUSSIAN'",
            "text/html": [
              "'RUSSIAN'"
            ]
          },
          "metadata": {
            "tags": []
          }
        },
        {
          "output_type": "display_data",
          "data": {
            "text/plain": [
              " Family: binomial  ( logit )\n",
              "Formula:          Accuracies ~ match + (1 | verb_type)\n",
              "Data: subset(lxl_df, verb_lang == \"R\")\n",
              "\n",
              "     AIC      BIC   logLik deviance df.resid \n",
              " 36229.7  36255.0 -18111.8  36223.7    34557 \n",
              "\n",
              "Random effects:\n",
              "\n",
              "Conditional model:\n",
              " Groups    Name        Variance Std.Dev.\n",
              " verb_type (Intercept) 0.8276   0.9097  \n",
              "Number of obs: 34560, groups:  verb_type, 7\n",
              "\n",
              "Conditional model:\n",
              "            Estimate Std. Error z value Pr(>|z|)    \n",
              "(Intercept)  1.16318    0.34418    3.38 0.000726 ***\n",
              "match1       0.34647    0.01301   26.64  < 2e-16 ***\n",
              "---\n",
              "Signif. codes:  0 ‘***’ 0.001 ‘**’ 0.01 ‘*’ 0.05 ‘.’ 0.1 ‘ ’ 1"
            ]
          },
          "metadata": {
            "tags": []
          }
        }
      ]
    },
    {
      "cell_type": "code",
      "metadata": {
        "colab": {
          "base_uri": "https://localhost:8080/",
          "height": 1000
        },
        "id": "OncEIXE2Npre",
        "outputId": "8ba8615d-a72a-4f23-d681-0a1dc4a54200"
      },
      "source": [
        "## IS THERE AGREEMENT ATTRACTION WHEN SUBJ & VERB DIFFERENT LANGS ??\n",
        "lxl_df <- subset(bert_df, sv_match_lang==\"FALSE\")\n",
        "lxl_df$match <- relevel(lxl_df$match, \"TRUE\")\n",
        "\n",
        "contrasts(lxl_df$match) <- contr.sum(2)\n",
        "summary(lxl_df$match)\n",
        "\n",
        "\n",
        "\"ENGLISH\"\n",
        "# Accuracies is binary\n",
        "bert_lm <- glmmTMB(data=subset(lxl_df, verb_lang==\"E\"), \n",
        "                 Accuracies ~ match + (1 | verb_type),\n",
        "                 family=binomial())\n",
        "summary(bert_lm)\n",
        "\n",
        "\"FRENCH\"\n",
        "# Accuracies is binary\n",
        "bert_lm <- glmmTMB(data=subset(lxl_df, verb_lang==\"F\"), \n",
        "                 Accuracies ~ match + (1 | verb_type),\n",
        "                 family=binomial())\n",
        "summary(bert_lm)\n",
        "\n",
        "\"RUSSIAN\"\n",
        "# Accuracies is binary\n",
        "bert_lm <- glmmTMB(data=subset(lxl_df, verb_lang==\"R\"), \n",
        "                 Accuracies ~ match + (1 | verb_type),\n",
        "                 family=binomial())\n",
        "summary(bert_lm)"
      ],
      "execution_count": 158,
      "outputs": [
        {
          "output_type": "display_data",
          "data": {
            "text/plain": [
              "  TRUE  FALSE \n",
              "103680 103680 "
            ],
            "text/latex": "\\begin{description*}\n\\item[TRUE] 103680\n\\item[FALSE] 103680\n\\end{description*}\n",
            "text/markdown": "TRUE\n:   103680FALSE\n:   103680\n\n",
            "text/html": [
              "<style>\n",
              ".dl-inline {width: auto; margin:0; padding: 0}\n",
              ".dl-inline>dt, .dl-inline>dd {float: none; width: auto; display: inline-block}\n",
              ".dl-inline>dt::after {content: \":\\0020\"; padding-right: .5ex}\n",
              ".dl-inline>dt:not(:first-of-type) {padding-left: .5ex}\n",
              "</style><dl class=dl-inline><dt>TRUE</dt><dd>103680</dd><dt>FALSE</dt><dd>103680</dd></dl>\n"
            ]
          },
          "metadata": {
            "tags": []
          }
        },
        {
          "output_type": "display_data",
          "data": {
            "text/plain": [
              "[1] \"ENGLISH\""
            ],
            "text/latex": "'ENGLISH'",
            "text/markdown": "'ENGLISH'",
            "text/html": [
              "'ENGLISH'"
            ]
          },
          "metadata": {
            "tags": []
          }
        },
        {
          "output_type": "display_data",
          "data": {
            "text/plain": [
              " Family: binomial  ( logit )\n",
              "Formula:          Accuracies ~ match + (1 | verb_type)\n",
              "Data: subset(lxl_df, verb_lang == \"E\")\n",
              "\n",
              "     AIC      BIC   logLik deviance df.resid \n",
              " 88705.8  88733.3 -44349.9  88699.8    69117 \n",
              "\n",
              "Random effects:\n",
              "\n",
              "Conditional model:\n",
              " Groups    Name        Variance Std.Dev.\n",
              " verb_type (Intercept) 0.1797   0.4239  \n",
              "Number of obs: 69120, groups:  verb_type, 7\n",
              "\n",
              "Conditional model:\n",
              "            Estimate Std. Error z value Pr(>|z|)    \n",
              "(Intercept) 0.431528   0.160421    2.69  0.00715 ** \n",
              "match1      0.336128   0.008047   41.77  < 2e-16 ***\n",
              "---\n",
              "Signif. codes:  0 ‘***’ 0.001 ‘**’ 0.01 ‘*’ 0.05 ‘.’ 0.1 ‘ ’ 1"
            ]
          },
          "metadata": {
            "tags": []
          }
        },
        {
          "output_type": "display_data",
          "data": {
            "text/plain": [
              "[1] \"FRENCH\""
            ],
            "text/latex": "'FRENCH'",
            "text/markdown": "'FRENCH'",
            "text/html": [
              "'FRENCH'"
            ]
          },
          "metadata": {
            "tags": []
          }
        },
        {
          "output_type": "display_data",
          "data": {
            "text/plain": [
              " Family: binomial  ( logit )\n",
              "Formula:          Accuracies ~ match + (1 | verb_type)\n",
              "Data: subset(lxl_df, verb_lang == \"F\")\n",
              "\n",
              "     AIC      BIC   logLik deviance df.resid \n",
              " 93873.3  93900.7 -46933.6  93867.3    69117 \n",
              "\n",
              "Random effects:\n",
              "\n",
              "Conditional model:\n",
              " Groups    Name        Variance Std.Dev.\n",
              " verb_type (Intercept) 0.00625  0.07906 \n",
              "Number of obs: 69120, groups:  verb_type, 5\n",
              "\n",
              "Conditional model:\n",
              "            Estimate Std. Error z value Pr(>|z|)    \n",
              "(Intercept)  0.22559    0.03628   6.218 5.04e-10 ***\n",
              "match1       0.23864    0.00772  30.912  < 2e-16 ***\n",
              "---\n",
              "Signif. codes:  0 ‘***’ 0.001 ‘**’ 0.01 ‘*’ 0.05 ‘.’ 0.1 ‘ ’ 1"
            ]
          },
          "metadata": {
            "tags": []
          }
        },
        {
          "output_type": "display_data",
          "data": {
            "text/plain": [
              "[1] \"RUSSIAN\""
            ],
            "text/latex": "'RUSSIAN'",
            "text/markdown": "'RUSSIAN'",
            "text/html": [
              "'RUSSIAN'"
            ]
          },
          "metadata": {
            "tags": []
          }
        },
        {
          "output_type": "display_data",
          "data": {
            "text/plain": [
              " Family: binomial  ( logit )\n",
              "Formula:          Accuracies ~ match + (1 | verb_type)\n",
              "Data: subset(lxl_df, verb_lang == \"R\")\n",
              "\n",
              "     AIC      BIC   logLik deviance df.resid \n",
              " 80293.6  80321.0 -40143.8  80287.6    69117 \n",
              "\n",
              "Random effects:\n",
              "\n",
              "Conditional model:\n",
              " Groups    Name        Variance Std.Dev.\n",
              " verb_type (Intercept) 0.2331   0.4828  \n",
              "Number of obs: 69120, groups:  verb_type, 7\n",
              "\n",
              "Conditional model:\n",
              "            Estimate Std. Error z value Pr(>|z|)    \n",
              "(Intercept) 0.764127   0.182710    4.18 2.89e-05 ***\n",
              "match1      0.428932   0.008668   49.48  < 2e-16 ***\n",
              "---\n",
              "Signif. codes:  0 ‘***’ 0.001 ‘**’ 0.01 ‘*’ 0.05 ‘.’ 0.1 ‘ ’ 1"
            ]
          },
          "metadata": {
            "tags": []
          }
        }
      ]
    },
    {
      "cell_type": "code",
      "metadata": {
        "colab": {
          "base_uri": "https://localhost:8080/",
          "height": 1000
        },
        "id": "13LlxpMmQRQa",
        "outputId": "a79247fd-82f6-40cd-ca7e-0c46383707e3"
      },
      "source": [
        "## IS THERE AGREEMENT ATTRACTION WHEN SUBJ & VERB DIFFERENT LANGS ??\n",
        "bert_df$match <- relevel(bert_df$match, \"FALSE\")\n",
        "bert_df$sv_match_lang <- relevel(bert_df$sv_match_lang, \"FALSE\")\n",
        "bert_df$av_match_lang <- relevel(bert_df$av_match_lang, \"TRUE\")\n",
        "\n",
        "contrasts(bert_df$sv_match_lang) <- contr.sum(2)\n",
        "contrasts(bert_df$av_match_lang) <- contr.sum(2)\n",
        "contrasts(bert_df$match) <- contr.sum(2)\n",
        "summary(bert_df$sv_match_lang)\n",
        "summary(bert_df$av_match_lang)\n",
        "summary(bert_df$match)\n",
        "\n",
        "\"ENGLISH\"\n",
        "# Accuracies is binary\n",
        "bert_lm <- glmmTMB(data=subset(bert_df, verb_lang==\"E\"), \n",
        "                 Accuracies ~ match*sv_match_lang*av_match_lang + (1 | verb_type),\n",
        "                 family=binomial())\n",
        "summary(bert_lm)\n",
        "\n",
        "\"FRENCH\"\n",
        "# Accuracies is binary\n",
        "bert_lm <- glmmTMB(data=subset(bert_df, verb_lang==\"F\"), \n",
        "                 Accuracies ~ match*sv_match_lang*av_match_lang + (1 | verb_type),\n",
        "                 family=binomial())\n",
        "summary(bert_lm)\n",
        "\n",
        "\"RUSSIAN\"\n",
        "# Accuracies is binary\n",
        "bert_lm <- glmmTMB(data=subset(bert_df, verb_lang==\"R\"), \n",
        "                 Accuracies ~ match*sv_match_lang*av_match_lang + (1 | verb_type),\n",
        "                 family=binomial())\n",
        "summary(bert_lm)"
      ],
      "execution_count": 161,
      "outputs": [
        {
          "output_type": "display_data",
          "data": {
            "text/plain": [
              " FALSE   TRUE \n",
              "207360 103680 "
            ],
            "text/latex": "\\begin{description*}\n\\item[FALSE] 207360\n\\item[TRUE] 103680\n\\end{description*}\n",
            "text/markdown": "FALSE\n:   207360TRUE\n:   103680\n\n",
            "text/html": [
              "<style>\n",
              ".dl-inline {width: auto; margin:0; padding: 0}\n",
              ".dl-inline>dt, .dl-inline>dd {float: none; width: auto; display: inline-block}\n",
              ".dl-inline>dt::after {content: \":\\0020\"; padding-right: .5ex}\n",
              ".dl-inline>dt:not(:first-of-type) {padding-left: .5ex}\n",
              "</style><dl class=dl-inline><dt>FALSE</dt><dd>207360</dd><dt>TRUE</dt><dd>103680</dd></dl>\n"
            ]
          },
          "metadata": {
            "tags": []
          }
        },
        {
          "output_type": "display_data",
          "data": {
            "text/plain": [
              "  TRUE  FALSE \n",
              "103680 207360 "
            ],
            "text/latex": "\\begin{description*}\n\\item[TRUE] 103680\n\\item[FALSE] 207360\n\\end{description*}\n",
            "text/markdown": "TRUE\n:   103680FALSE\n:   207360\n\n",
            "text/html": [
              "<style>\n",
              ".dl-inline {width: auto; margin:0; padding: 0}\n",
              ".dl-inline>dt, .dl-inline>dd {float: none; width: auto; display: inline-block}\n",
              ".dl-inline>dt::after {content: \":\\0020\"; padding-right: .5ex}\n",
              ".dl-inline>dt:not(:first-of-type) {padding-left: .5ex}\n",
              "</style><dl class=dl-inline><dt>TRUE</dt><dd>103680</dd><dt>FALSE</dt><dd>207360</dd></dl>\n"
            ]
          },
          "metadata": {
            "tags": []
          }
        },
        {
          "output_type": "display_data",
          "data": {
            "text/plain": [
              " FALSE   TRUE \n",
              "155520 155520 "
            ],
            "text/latex": "\\begin{description*}\n\\item[FALSE] 155520\n\\item[TRUE] 155520\n\\end{description*}\n",
            "text/markdown": "FALSE\n:   155520TRUE\n:   155520\n\n",
            "text/html": [
              "<style>\n",
              ".dl-inline {width: auto; margin:0; padding: 0}\n",
              ".dl-inline>dt, .dl-inline>dd {float: none; width: auto; display: inline-block}\n",
              ".dl-inline>dt::after {content: \":\\0020\"; padding-right: .5ex}\n",
              ".dl-inline>dt:not(:first-of-type) {padding-left: .5ex}\n",
              "</style><dl class=dl-inline><dt>FALSE</dt><dd>155520</dd><dt>TRUE</dt><dd>155520</dd></dl>\n"
            ]
          },
          "metadata": {
            "tags": []
          }
        },
        {
          "output_type": "display_data",
          "data": {
            "text/plain": [
              "[1] \"ENGLISH\""
            ],
            "text/latex": "'ENGLISH'",
            "text/markdown": "'ENGLISH'",
            "text/html": [
              "'ENGLISH'"
            ]
          },
          "metadata": {
            "tags": []
          }
        },
        {
          "output_type": "display_data",
          "data": {
            "text/plain": [
              " Family: binomial  ( logit )\n",
              "Formula:          \n",
              "Accuracies ~ match * sv_match_lang * av_match_lang + (1 | verb_type)\n",
              "Data: subset(bert_df, verb_lang == \"E\")\n",
              "\n",
              "     AIC      BIC   logLik deviance df.resid \n",
              "128318.6 128404.5 -64150.3 128300.6   103671 \n",
              "\n",
              "Random effects:\n",
              "\n",
              "Conditional model:\n",
              " Groups    Name        Variance Std.Dev.\n",
              " verb_type (Intercept) 0.2623   0.5121  \n",
              "Number of obs: 103680, groups:  verb_type, 7\n",
              "\n",
              "Conditional model:\n",
              "                                       Estimate Std. Error z value Pr(>|z|)    \n",
              "(Intercept)                           0.5696407  0.1937262    2.94 0.003277 ** \n",
              "match1                               -0.4472577  0.0077625  -57.62  < 2e-16 ***\n",
              "sv_match_lang1                       -0.1214722  0.0077417  -15.69  < 2e-16 ***\n",
              "av_match_lang1                        0.0002512  0.0077401    0.03 0.974105    \n",
              "match1:sv_match_lang1                 0.0176650  0.0077400    2.28 0.022472 *  \n",
              "match1:av_match_lang1                -0.1719355  0.0077434  -22.20  < 2e-16 ***\n",
              "sv_match_lang1:av_match_lang1         0.0270475  0.0077400    3.49 0.000475 ***\n",
              "match1:sv_match_lang1:av_match_lang1 -0.0759609  0.0077407   -9.81  < 2e-16 ***\n",
              "---\n",
              "Signif. codes:  0 ‘***’ 0.001 ‘**’ 0.01 ‘*’ 0.05 ‘.’ 0.1 ‘ ’ 1"
            ]
          },
          "metadata": {
            "tags": []
          }
        },
        {
          "output_type": "display_data",
          "data": {
            "text/plain": [
              "[1] \"FRENCH\""
            ],
            "text/latex": "'FRENCH'",
            "text/markdown": "'FRENCH'",
            "text/html": [
              "'FRENCH'"
            ]
          },
          "metadata": {
            "tags": []
          }
        },
        {
          "output_type": "display_data",
          "data": {
            "text/plain": [
              " Family: binomial  ( logit )\n",
              "Formula:          \n",
              "Accuracies ~ match * sv_match_lang * av_match_lang + (1 | verb_type)\n",
              "Data: subset(bert_df, verb_lang == \"F\")\n",
              "\n",
              "     AIC      BIC   logLik deviance df.resid \n",
              "133637.3 133723.3 -66809.7 133619.3   103671 \n",
              "\n",
              "Random effects:\n",
              "\n",
              "Conditional model:\n",
              " Groups    Name        Variance Std.Dev.\n",
              " verb_type (Intercept) 0.01825  0.1351  \n",
              "Number of obs: 103680, groups:  verb_type, 5\n",
              "\n",
              "Conditional model:\n",
              "                                      Estimate Std. Error z value Pr(>|z|)    \n",
              "(Intercept)                           0.543438   0.060944    8.92  < 2e-16 ***\n",
              "match1                               -0.378491   0.007709  -49.10  < 2e-16 ***\n",
              "sv_match_lang1                       -0.292692   0.007708  -37.97  < 2e-16 ***\n",
              "av_match_lang1                        0.031365   0.007707    4.07 4.71e-05 ***\n",
              "match1:sv_match_lang1                 0.053738   0.007707    6.97 3.12e-12 ***\n",
              "match1:av_match_lang1                -0.189345   0.007708  -24.57  < 2e-16 ***\n",
              "sv_match_lang1:av_match_lang1         0.089492   0.007707   11.61  < 2e-16 ***\n",
              "match1:sv_match_lang1:av_match_lang1 -0.044972   0.007707   -5.83 5.38e-09 ***\n",
              "---\n",
              "Signif. codes:  0 ‘***’ 0.001 ‘**’ 0.01 ‘*’ 0.05 ‘.’ 0.1 ‘ ’ 1"
            ]
          },
          "metadata": {
            "tags": []
          }
        },
        {
          "output_type": "display_data",
          "data": {
            "text/plain": [
              "[1] \"RUSSIAN\""
            ],
            "text/latex": "'RUSSIAN'",
            "text/markdown": "'RUSSIAN'",
            "text/html": [
              "'RUSSIAN'"
            ]
          },
          "metadata": {
            "tags": []
          }
        },
        {
          "output_type": "display_data",
          "data": {
            "text/plain": [
              " Family: binomial  ( logit )\n",
              "Formula:          \n",
              "Accuracies ~ match * sv_match_lang * av_match_lang + (1 | verb_type)\n",
              "Data: subset(bert_df, verb_lang == \"R\")\n",
              "\n",
              "     AIC      BIC   logLik deviance df.resid \n",
              "116655.4 116741.4 -58318.7 116637.4   103671 \n",
              "\n",
              "Random effects:\n",
              "\n",
              "Conditional model:\n",
              " Groups    Name        Variance Std.Dev.\n",
              " verb_type (Intercept) 0.3054   0.5526  \n",
              "Number of obs: 103680, groups:  verb_type, 7\n",
              "\n",
              "Conditional model:\n",
              "                                      Estimate Std. Error z value Pr(>|z|)    \n",
              "(Intercept)                           0.951027   0.209049    4.55 5.38e-06 ***\n",
              "match1                               -0.329575   0.008229  -40.05  < 2e-16 ***\n",
              "sv_match_lang1                       -0.068803   0.008216   -8.37  < 2e-16 ***\n",
              "av_match_lang1                        0.130180   0.008218   15.84  < 2e-16 ***\n",
              "match1:sv_match_lang1                -0.051866   0.008216   -6.31 2.74e-10 ***\n",
              "match1:av_match_lang1                 0.148955   0.008219   18.12  < 2e-16 ***\n",
              "sv_match_lang1:av_match_lang1         0.115031   0.008217   14.00  < 2e-16 ***\n",
              "match1:sv_match_lang1:av_match_lang1 -0.011408   0.008215   -1.39    0.165    \n",
              "---\n",
              "Signif. codes:  0 ‘***’ 0.001 ‘**’ 0.01 ‘*’ 0.05 ‘.’ 0.1 ‘ ’ 1"
            ]
          },
          "metadata": {
            "tags": []
          }
        }
      ]
    }
  ]
}